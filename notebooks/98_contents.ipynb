{
 "cells": [
  {
   "cell_type": "markdown",
   "metadata": {},
   "source": [
    "Python_deployment\n",
    "==="
   ]
  },
  {
   "cell_type": "markdown",
   "metadata": {},
   "source": [
    "01 Ad Sales Prediction\n",
    "===\n",
    "Let's train a model on Ad Sales prediction and see how we can deploy it using Streamlit\n",
    "\n",
    "[Ad Sales prediction](01_adsales_prediction_app_training.ipynb)"
   ]
  },
  {
   "cell_type": "markdown",
   "metadata": {},
   "source": [
    "02 Web deployment\n",
    "---\n",
    "Now that we have an idea how streamlit works. Let's see if we can make it work via colab and heroku!\n",
    "\n",
    "[Web deployment](02_web_deployment.ipynb)"
   ]
  },
  {
   "cell_type": "markdown",
   "metadata": {},
   "source": [
    "03 Insurance app training\n",
    "---\n",
    "Let's use a more feature rich data set and try out more explorations and see how the concept can be replicated via a streamlit deployed app\n",
    "\n",
    "[Insurance app training](03_insurance_app_training.ipynb)"
   ]
  },
  {
   "cell_type": "markdown",
   "metadata": {},
   "source": [
    "04 Create an API using FastAPI\n",
    "---\n",
    "Let's use FastAPI to create our very own API end point\n",
    "\n",
    "[Create an API using FastAPI](04_api_using_fastapi.ipynb)"
   ]
  },
  {
   "cell_type": "markdown",
   "metadata": {},
   "source": [
    "---\n",
    "[Go back to index](00_index.ipynb)"
   ]
  },
  {
   "cell_type": "code",
   "execution_count": null,
   "metadata": {},
   "outputs": [],
   "source": []
  }
 ],
 "metadata": {
  "kernelspec": {
   "display_name": "Python 3",
   "language": "python",
   "name": "python3"
  },
  "language_info": {
   "codemirror_mode": {
    "name": "ipython",
    "version": 3
   },
   "file_extension": ".py",
   "mimetype": "text/x-python",
   "name": "python",
   "nbconvert_exporter": "python",
   "pygments_lexer": "ipython3",
   "version": "3.8.5"
  }
 },
 "nbformat": 4,
 "nbformat_minor": 1
}
