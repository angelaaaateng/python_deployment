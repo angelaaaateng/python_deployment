{
 "cells": [
  {
   "cell_type": "markdown",
   "metadata": {},
   "source": [
    "# Python_deployment\n",
    "\n",
    "1. open https://colab.research.google.com/\n",
    "2. File > open notebook > github > https://github.com/ogbinar/python_deployment\n",
    "3. Select notebooks/index.ipynb\n"
   ]
  },
  {
   "cell_type": "markdown",
   "metadata": {},
   "source": [
    "Topic Summary: [Python deployment Content](98_contents.ipynb)"
   ]
  },
  {
   "cell_type": "markdown",
   "metadata": {},
   "source": [
    "# Collaborative Learning\n",
    "\n",
    "* If you DON’T know, ask in ZOOM or Slack\n",
    "* You can also refer to: google, online API references, stack overflow\n",
    "* If you’re NOT SURE, validate in ZOOM or Slack\n",
    "* If you DO know, share in ZOOM or Slack \n",
    "* Feel free to correct me, or add on the topic \n",
    "* Say your name, say your name\n"
   ]
  },
  {
   "cell_type": "markdown",
   "metadata": {},
   "source": [
    "# Fun Activities\n",
    "\n",
    "* Programming is a Personal Journey\n",
    "* Nothing stops you from learning from others - Pair Programming\n",
    "* Notebooks will be provided\n",
    "* During exercises, if you finish early – HELP OTHERS OUT"
   ]
  },
  {
   "cell_type": "markdown",
   "metadata": {},
   "source": [
    "---"
   ]
  },
  {
   "cell_type": "markdown",
   "metadata": {},
   "source": [
    "# Model Deployment\n",
    "For this lesson we would be focusing primarily on **model deployment** which we will be doing with the use of Streamlit package."
   ]
  },
  {
   "cell_type": "markdown",
   "metadata": {},
   "source": [
    "![Alt Text](../img/8yg8dsj.gif)"
   ]
  },
  {
   "cell_type": "markdown",
   "metadata": {},
   "source": [
    "# Streamlit\n",
    "Streamlit is an open-source Python library that makes it easy to create and share beautiful, custom web apps for machine learning and data science. In just a few minutes you can build and deploy powerful data apps. https://www.streamlit.io/\n",
    "\n",
    "**For our deployment lesson today**, we'll do the following:\n",
    "- Know how Streamlit works\n",
    "- How Streamlit can be used\n",
    "- Deployment via local machine\n",
    "- Deployment via Website (Heroku)\n",
    "\n",
    "For more examples of how streamlit can be used vist here: https://github.com/MarcSkovMadsen/awesome-streamlit#awesome-resources"
   ]
  },
  {
   "cell_type": "markdown",
   "metadata": {},
   "source": [
    "# Prototype vs Production Ready\n",
    "\n",
    "Most of what you will develop as data scientists are one-off projects and prototypes. These are designed to be a means to demonstrate the potential of your analytics solution to your clients. \n",
    "\n",
    "There is very minimal chance that beyond the insights and models you develop, you will also be working on developing the full-blown production grade application. Data and software engineers will normally work towards embedding your output within a scalable application.\n",
    "\n",
    "REPEAT: Typical data science tools are not meant for scaled production use!"
   ]
  },
  {
   "cell_type": "markdown",
   "metadata": {},
   "source": [
    "    \n",
    "# What other tools can we use to deploy reports / insights / models?\n",
    "\n",
    "## User Interface\n",
    "- Data\n",
    "- Web\n",
    "- Terminal\n",
    "- Desktop\n",
    "\n",
    "## Data\n",
    "- CSV (Pandas)\n",
    "- Excel (Pandas)\n",
    "- direct to Database ie. SQL (Pandas)\n",
    "- Web API (Flask)\n",
    "\n",
    "## Solutions\n",
    "- Excel\n",
    "- Notebooks ie. Jupyter\n",
    "- Streamlit, Dash, Plotly, Flask, Bokeh, Spyre, Seaborn, Gleam\n",
    "- Tableau\n",
    "\n",
    "### These are just some of the more common approaches\n",
    "but there are many more and would depend on your user requirements. Google is your friend!"
   ]
  },
  {
   "cell_type": "markdown",
   "metadata": {},
   "source": [
    "# Start your journey!"
   ]
  },
  {
   "cell_type": "markdown",
   "metadata": {},
   "source": [
    "**Start Here:** [Adsales Prediction App](01_adsales_prediction_app_training.ipynb)"
   ]
  },
  {
   "cell_type": "code",
   "execution_count": null,
   "metadata": {},
   "outputs": [],
   "source": []
  }
 ],
 "metadata": {
  "kernelspec": {
   "display_name": "Python 3",
   "language": "python",
   "name": "python3"
  },
  "language_info": {
   "codemirror_mode": {
    "name": "ipython",
    "version": 3
   },
   "file_extension": ".py",
   "mimetype": "text/x-python",
   "name": "python",
   "nbconvert_exporter": "python",
   "pygments_lexer": "ipython3",
   "version": "3.8.3"
  }
 },
 "nbformat": 4,
 "nbformat_minor": 1
}
