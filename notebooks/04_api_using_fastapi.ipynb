{
 "cells": [
  {
   "cell_type": "markdown",
   "metadata": {},
   "source": [
    "04 api_using_fastapi\n",
    "===\n"
   ]
  },
  {
   "cell_type": "markdown",
   "metadata": {},
   "source": [
    "### Create your API using Fast API"
   ]
  },
  {
   "cell_type": "markdown",
   "metadata": {},
   "source": [
    "> Create a file ***main.py*** with"
   ]
  },
  {
   "cell_type": "code",
   "execution_count": 16,
   "metadata": {},
   "outputs": [],
   "source": [
    "# Import Packages\n",
    "import numpy as np\n",
    "import seaborn as sns\n",
    "import matplotlib.pyplot as plt\n",
    "import pandas as pd \n",
    "import joblib \n",
    "from sklearn.linear_model import LinearRegression \n",
    "\n",
    "# Fast API\n",
    "from fastapi import FastAPI\n",
    "\n",
    "app = FastAPI()\n",
    "\n",
    "\n",
    "# Load model using joblib\n",
    "saved_model = joblib.load('../adsales_app/adsales_linearregression.mdl')\n",
    "\n",
    "\n",
    "@app.get(\"/\")\n",
    "def read_root():\n",
    "    return {\"Hello\": \"World\"}\n",
    "\n",
    "# assign default costs\n",
    "# tv_cost = 150\n",
    "# radio_cost = 25\n",
    "# news_cost = 125\n",
    "\n",
    "@app.get(\"/predict_sales/\")\n",
    "def read_item(tv_cost:int=150, radio_cost:int= 25,news_cost:int=125):\n",
    "    predicted_sales = saved_model.predict([[tv_cost, radio_cost, news_cost]])[0]\n",
    "    return {\"predict_sales\": \"Predicted sales is \"+str(predicted_sales*1000)+\" dollars.\"}"
   ]
  },
  {
   "cell_type": "markdown",
   "metadata": {},
   "source": [
    "> Open a terminal and type ***uvicorn main:app --reload*** \n",
    "\n",
    "***make sure you are in the same folder / directory as main.py file!***"
   ]
  },
  {
   "cell_type": "markdown",
   "metadata": {},
   "source": [
    "![Alt Text](../img/terminal.png)"
   ]
  },
  {
   "cell_type": "markdown",
   "metadata": {},
   "source": [
    "> Open an internet browser and type ***http://127.0.0.1:8000*** on the address bar\n",
    "\n",
    "You sould see the resulting json from the api call"
   ]
  },
  {
   "cell_type": "markdown",
   "metadata": {},
   "source": [
    "![Alt Text](../img/browser.png)"
   ]
  },
  {
   "cell_type": "markdown",
   "metadata": {},
   "source": [
    "> Open an internet browser and type ***http://127.0.0.1:8000/predict_sales/?tv_cost=1&radio_cost=1*** on the address bar\n",
    "\n",
    "{\"predict_sales\":\"Predicted sales is 3893.802906252579 dollars.\"}"
   ]
  },
  {
   "cell_type": "markdown",
   "metadata": {},
   "source": [
    "###  Let's call the API using Python"
   ]
  },
  {
   "cell_type": "code",
   "execution_count": 18,
   "metadata": {
    "scrolled": true
   },
   "outputs": [
    {
     "name": "stdout",
     "output_type": "stream",
     "text": [
      "Predicted sales is 8656.2823239456 dollars.\n"
     ]
    }
   ],
   "source": [
    "# importing the requests library\n",
    "import requests\n",
    "\n",
    "# api-endpoint\n",
    "URL = \"http://127.0.0.1:8000/predict_sales\"\n",
    "\n",
    "# defining a params dict for the parameters to be sent to the API\n",
    "PARAMS = {'tv_cost':1}\n",
    "\n",
    "# sending get request and saving the response as response object\n",
    "r = requests.get(url = URL, params = PARAMS)\n",
    "\n",
    "# extracting data in json format\n",
    "data = r.json()\n",
    "\n",
    "\n",
    "print(data['predict_sales'])"
   ]
  },
  {
   "cell_type": "markdown",
   "metadata": {},
   "source": [
    "# Congratulations!\n",
    "\n",
    "You now have the basics to create and serve an API  as well as call an API to receive data using Python!"
   ]
  },
  {
   "cell_type": "markdown",
   "metadata": {},
   "source": [
    "There are many ways to deploy your FastAPI code into production (such as in Nginx or Apache). This is usually handled by the engineering team. Alternatively, you can deploy this on your own using the cloud (such as Heroku).\n",
    "\n",
    "You can read up on how to deploy FastAPI to Heroku [here](https://www.tutlinks.com/create-and-deploy-fastapi-app-to-heroku/)."
   ]
  },
  {
   "cell_type": "code",
   "execution_count": null,
   "metadata": {},
   "outputs": [],
   "source": []
  }
 ],
 "metadata": {
  "kernelspec": {
   "display_name": "Python 3",
   "language": "python",
   "name": "python3"
  },
  "language_info": {
   "codemirror_mode": {
    "name": "ipython",
    "version": 3
   },
   "file_extension": ".py",
   "mimetype": "text/x-python",
   "name": "python",
   "nbconvert_exporter": "python",
   "pygments_lexer": "ipython3",
   "version": "3.8.5"
  }
 },
 "nbformat": 4,
 "nbformat_minor": 2
}
