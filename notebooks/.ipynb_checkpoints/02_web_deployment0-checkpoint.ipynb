{
 "cells": [
  {
   "cell_type": "markdown",
   "metadata": {},
   "source": [
    "02 Web Deployment\n",
    "===\n"
   ]
  },
  {
   "cell_type": "markdown",
   "metadata": {},
   "source": [
    "### Where can we deploy Streamlit on the web?\n",
    "\n",
    "- Google colab\n",
    "- Heroku\n",
    "- Virtual Private Server ie. AWS ec2/ google cloud/ azure"
   ]
  },
  {
   "cell_type": "markdown",
   "metadata": {},
   "source": [
    "# Deploying in Colab"
   ]
  },
  {
   "cell_type": "markdown",
   "metadata": {},
   "source": [
    "1. Open Colab\n",
    "2. Open Files Tab\n",
    "3. upload the contents of the adsales_app\n",
    "4. run the following commands per cell:\n",
    "\n",
    "> !pip install -q streamlit\n",
    "\n",
    "> !wget https://bin.equinox.io/c/4VmDzA7iaHb/ngrok-stable-linux-amd64.zip\n",
    "\n",
    "> !unzip ngrok-stable-linux-amd64.zip\n",
    "\n",
    "> get_ipython().system_raw('./ngrok http 8501 &')\n",
    "\n",
    "> !curl -s http://localhost:4040/api/tunnels | python3 -c \n",
    "    'import sys, json; print(\"Execute the next cell and the go to the following URL: \" +json.load(sys.stdin)[\"tunnels\"][0][\"public_url\"])'\n",
    "\n",
    "> !streamlit run /content/app.py\n",
    "\n"
   ]
  },
  {
   "cell_type": "markdown",
   "metadata": {},
   "source": [
    "# Deploying in Heroku"
   ]
  },
  {
   "cell_type": "markdown",
   "metadata": {},
   "source": [
    "1. open command prompt / terminal\n",
    "2. go to adsales_app folder\n",
    "3. Install pipreqs\n",
    "> pip install pipreqs\n",
    "4. run pipreqs on the current folder this will generate a requirements.txt file. verify contents!\n",
    "> pipreqs ./\n",
    "5. create **Procfile** file. This file should contain the following text\n",
    "> web: sh setup.sh && streamlit run app.py\n",
    "6. create **setup.sh** file. This file should contain the following text\n",
    "\n",
    "~~~~\n",
    "mkdir -p ~/.streamlit/\n",
    "echo \"\\\n",
    "[general]\\n\\\n",
    "email = \\\"your@domain.com\\\"\\n\\\n",
    "\" > ~/.streamlit/credentials.toml\n",
    "echo \"\\\n",
    "[server]\\n\\\n",
    "headless = true\\n\\\n",
    "enableCORS=false\\n\\\n",
    "port = $PORT\\n\\\n",
    "\" > ~/.streamlit/config.toml\n",
    "~~~~\n",
    "7. You should now have the following files:\n",
    "    - adsales_linearregression.mdl\n",
    "    - advertising_regression.csv\n",
    "    - app.py\n",
    "    - procfile\n",
    "    - requirements.txt\n",
    "    - setup.sh\n",
    "8. Setup Heroku\n",
    "    - create Heroku account\n",
    "    - install Heroku CLI https://devcenter.heroku.com/articles/heroku-cli\n",
    "    - we assume you have git installed (including github account)\n",
    "9. Heroku commandline \n",
    "\n",
    "> heroku login #use your login credentials via browser\n",
    "\n",
    "> git init\n",
    "\n",
    "> heroku create\n",
    "\n",
    "> git add .\n",
    "\n",
    "> git commit -m \"some message\"\n",
    "\n",
    "> git push heroku master\n",
    "\n",
    "note: you might encounter path issues with heroku, double check where it is located/installed and consult your path environment variable\n",
    "\n",
    "> heroku ps:scale web=1 #check if process is running\n",
    "\n",
    "> heroku logs --tail # diagnose if there are issues\n",
    "\n",
    "10. visit your site and congratulate yourself on deploying to the web! "
   ]
  },
  {
   "cell_type": "markdown",
   "metadata": {},
   "source": [
    "- - -\n",
    "**NEXT TOPIC:**  [Insurance App](03_insurance_app_training.ipynb)"
   ]
  },
  {
   "cell_type": "code",
   "execution_count": null,
   "metadata": {},
   "outputs": [],
   "source": []
  }
 ],
 "metadata": {
  "kernelspec": {
   "display_name": "Python 3",
   "language": "python",
   "name": "python3"
  },
  "language_info": {
   "codemirror_mode": {
    "name": "ipython",
    "version": 3
   },
   "file_extension": ".py",
   "mimetype": "text/x-python",
   "name": "python",
   "nbconvert_exporter": "python",
   "pygments_lexer": "ipython3",
   "version": "3.8.3"
  }
 },
 "nbformat": 4,
 "nbformat_minor": 2
}
